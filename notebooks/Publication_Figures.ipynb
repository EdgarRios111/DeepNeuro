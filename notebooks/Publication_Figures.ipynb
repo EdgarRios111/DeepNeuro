{
 "cells": [
  {
   "cell_type": "markdown",
   "metadata": {},
   "source": [
    "# Publication Figures, DeepNeuro\n",
    "\n",
    "This Colab Notebook displays code to reproduce several of the figures available in DeepNeuro's pending manuscript submission. Some figures are supplemented with the graphic design tool Figma, or with the medical image visualization tool 3DSlicer; these aspects are not reproduced here.\n",
    "\n",
    "Before running code to generate these figures, you must run the installation and data download code below."
   ]
  },
  {
   "cell_type": "code",
   "execution_count": null,
   "metadata": {
    "collapsed": false
   },
   "outputs": [],
   "source": [
    "\"\"\" This code is meant to be run in Google CoLab. Google CoLab is an online\n",
    "    coding environment that allows users limited access to GPUs, and pre-installs\n",
    "    many Python libraries required for deep learning. To begin, we install DeepNeuro\n",
    "    via the \"pip\" package manager, and download a copy of 3DSlicer. These installation\n",
    "    steps can be avoided if you are using a Docker or Singularity container with DeepNeuro\n",
    "    installed.\n",
    "\"\"\"\n",
    "\n",
    "# Install DeepNeuro\n",
    "!pip install deepneuro\n",
    "\n",
    "# Install Slicer\n",
    "!SLICER_URL=\"http://download.slicer.org/bitstream/561384\" && \\\n",
    "    curl -v -s -L $SLICER_URL | tar xz -C /tmp && \\\n",
    "    mv /tmp/Slicer* /opt/slicer\n",
    "export PATH=$PATH:/opt/slicer\n",
    "    \n",
    "# Import additional tools for Colab\n",
    "from google.colab import files"
   ]
  },
  {
   "cell_type": "code",
   "execution_count": null,
   "metadata": {
    "collapsed": false
   },
   "outputs": [],
   "source": [
    "\"\"\" Code to download sample cases that will be used for the remainder\n",
    "    of this notebook. The exact cases may differ from those presented\n",
    "    in the manuscript.\"\"\"\n",
    "\n",
    "import deepneuro\n",
    "\n",
    "from deepneuro.load import load\n",
    "load('sample_gbm_dicom', output_datapath='./Sample_Data')"
   ]
  },
  {
   "cell_type": "markdown",
   "metadata": {},
   "source": [
    "# Figure 2"
   ]
  },
  {
   "cell_type": "code",
   "execution_count": null,
   "metadata": {
    "collapsed": false,
    "deletable": true,
    "editable": true
   },
   "outputs": [],
   "source": [
    "\"\"\" This code is meant to be run in Google CoLab. Google CoLab is an online\n",
    "    coding environment that allows users limited access to GPUs, and pre-installs\n",
    "    many Python libraries required for deep learning.\n",
    "\"\"\"\n",
    "\n",
    "from deepneuro.data import DataCollection\n",
    "from deepneuro.preprocessing import *\n",
    "from deepneuro.utilities import check_data\n",
    "\n",
    "input_data = {'input_data': ['./Sample_Data/TCGA-02-0006/6-AX T1 POST-26504', \n",
    "                             './Sample_Data/TCGA-02-0006/4-AX FLAIR-23922']}\n",
    "\n",
    "data_collection = DataCollection()\n",
    "data_collection.add_case(input_data, case_name='Figure 1 Case')\n",
    "\n",
    "dicom_converter = DICOMConverter(data_groups=['input_data'])\n",
    "data_collection.append_preprocessor(dicom_converter)\n",
    "check_data(data_collection=data_collection)\n",
    "\n",
    "# bias_correction = N4BiasCorrection(data_groups=['input_data'])\n",
    "# registration = Registration(data_groups=['input_data'], reference_channel=0)\n",
    "# skull_stripping = SkullStrip_Model(data_groups=['input_data'], reference_channel=0)\n"
   ]
  },
  {
   "cell_type": "markdown",
   "metadata": {},
   "source": [
    "# Figure 3"
   ]
  },
  {
   "cell_type": "code",
   "execution_count": null,
   "metadata": {
    "collapsed": false,
    "deletable": true,
    "editable": true
   },
   "outputs": [],
   "source": [
    "# from deepneuro.data.data_collection import DataCollection\n",
    "\n",
    "# training_data_sources = {\n",
    "#     'directories': {\n",
    "#                 './Sample_Data/GBM_NIFTI/TRAINING':\n",
    "#                 {'input_data': ['*_flair.nii.gz*', '*_t2.nii.gz*', '*_t1Gd.nii.gz'], \n",
    "#                  'ground_truth': ['*GlistrBoost_ManuallyCorrected.nii.gz']}},\n",
    "# }\n",
    "\n",
    "# training_data = DataCollection(data_sources=training_data_sources, verbose=True)"
   ]
  },
  {
   "cell_type": "code",
   "execution_count": null,
   "metadata": {
    "collapsed": false,
    "deletable": true,
    "editable": true
   },
   "outputs": [],
   "source": [
    "# # We start off with some code to making plotting in Juypter/Colab Notebooks work correctly.\n",
    "# %matplotlib inline\n",
    "# import matplotlib.pyplot as plt\n",
    "# plt.rcParams['figure.figsize'] = [20, 10]\n",
    "\n",
    "# from deepneuro.utilities.visualize import check_data\n",
    "\n",
    "# figure = check_data(data_collection=training_data, viz_rows=1, batch_size=1, mosaic_rows=4, mosaic_columns=8, \n",
    "#                     viz_mode_3d='mosaic', colorbar=False,\n",
    "#                     title=\"Glioblastoma Visualization Example\",\n",
    "#                     subplot_titles={'input_data':['FLAIR', 'T2', 'Post-Contrast T1'], 'ground_truth':\n",
    "#                                   ['Multi-Tissue Glioblastoma Segmentation']})"
   ]
  },
  {
   "cell_type": "code",
   "execution_count": null,
   "metadata": {
    "collapsed": false,
    "deletable": true,
    "editable": true,
    "scrolled": false
   },
   "outputs": [],
   "source": [
    "import os\n",
    "import warnings\n",
    "\n",
    "warnings.filterwarnings(\"ignore\", message=\".*dtype size changed.*\")\n",
    "warnings.filterwarnings(\"ignore\", message=\".*keepdims.*\")\n",
    "warnings.filterwarnings(\"ignore\", message=\".*pydicom.*\")\n",
    "\n",
    "os.environ[\"CUDA_DEVICE_ORDER\"] = \"PCI_BUS_ID\"\n",
    "os.environ[\"CUDA_VISIBLE_DEVICES\"] = '0'\n",
    "\n",
    "# This code will make results plotting look nicer in Jupyter/Colab.\n",
    "%matplotlib inline\n",
    "import matplotlib.pyplot as plt\n",
    "plt.rcParams['figure.figsize'] = [15, 15]\n",
    "\n",
    "from deepneuro.outputs.inference import ModelPatchesInference\n",
    "from deepneuro.models.unet import UNet\n",
    "from deepneuro.data.data_collection import DataCollection\n",
    "\n",
    "model_parameters = {'input_shape': (32, 32, 32, 4),\n",
    "                'output_channels': 4,\n",
    "                'dropout': 0, \n",
    "                'batch_norm': True, \n",
    "                'initial_learning_rate': 0.001,\n",
    "                'cost_function': 'categorical_crossentropy',\n",
    "                'depth': 3,\n",
    "                'max_filter': 128}\n",
    "\n",
    "unet_model = UNet(**model_parameters)\n",
    "\n",
    "training_data = DataCollection(data_sources={'hdf5': 'training.hdf5'})\n",
    "validation_data = DataCollection(data_sources={'hdf5': 'validation.hdf5'})\n",
    "testing_data = DataCollection(data_sources={'hdf5': 'testing.hdf5'})\n",
    "\n",
    "callbacks = ['save_model', # Saves your model every epoch.\n",
    "             'predict_epoch', # Predicts a full volume every epoch.\n",
    "             'cyclic_learning_rate',] # Applies cyclical learning rate.\n",
    "\n",
    "periodic_testing_parameters = {'inputs': ['input_data'],\n",
    "               'batch_size': 20,\n",
    "               'output_patch_shape': (30, 30, 30, 1),\n",
    "               'patch_overlaps': 4,\n",
    "               'verbose': False}\n",
    "\n",
    "periodic_testing_output = ModelPatchesInference(**periodic_testing_parameters)\n",
    "\n",
    "trained_model = 'tumor_segmentation_model.hdf5'\n",
    "\n",
    "training_parameters = {'input_groups': ['input_data', 'ground_truth'],\n",
    "                'training_batch_size': 16,\n",
    "                'num_epochs': 18,\n",
    "                'training_steps_per_epoch': 40,\n",
    "                'callbacks': callbacks,\n",
    "                \n",
    "                # Save model parameters\n",
    "                'output_model_filepath': trained_model,\n",
    "                'save_best_only': False,\n",
    "                \n",
    "                # Cyclic learning rate parameters\n",
    "                'cyclic_base_learning_rate': .001,\n",
    "                'cyclic_max_learning_rate': .006,\n",
    "                \n",
    "                # Periodic testing parameters\n",
    "                'epoch_prediction_dir': './Test_Model_Outputs',\n",
    "                'epoch_prediction_data_collection': testing_data,\n",
    "                'epoch_prediction_object': periodic_testing_output,\n",
    "                'epoch_prediction_batch_size': 1,\n",
    "                'epoch_prediction_output_mode': 'mosaic',\n",
    "                'viz_mode_3d': '2d_slice', \n",
    "                'viz_rows': 3, \n",
    "                'slice_index': 101,\n",
    "                'colorbar': False,\n",
    "#                 'subplot_titles': {'prediction_0': 'Background Training Results', 'prediction_1': 'Necrosis Training Results',\n",
    "#                                   'prediction_2': 'Edema Training Results', 'prediction_3': 'Enhancing Tumor Training Results', 'prediction': 'Training Results'},\n",
    "                'title': 'Glioblastoma Training Progress Mosaic'\n",
    "                }\n",
    "\n",
    "unet_model.train(training_data, **training_parameters)\n"
   ]
  },
  {
   "cell_type": "code",
   "execution_count": null,
   "metadata": {
    "collapsed": false,
    "deletable": true,
    "editable": true
   },
   "outputs": [],
   "source": [
    "from deepneuro.utilities.visualize import check_data\n",
    "\n",
    "training_data_sources = {\n",
    "    'directories': {\n",
    "                './Sample_Data/GBM_NIFTI/TESTING':\n",
    "                {'input_data': ['*_flair.nii.gz*', '*_t2.nii.gz*', '*_t1.nii.gz', '*_t1Gd.nii.gz'], \n",
    "                 'ground_truth': ['*GlistrBoost_ManuallyCorrected.nii.gz']}},\n",
    "}\n",
    "\n",
    "testing_data = DataCollection(data_sources={'hdf5': 'testing.hdf5'})\n",
    "\n",
    "figure = check_data(data_collection=testing_data, viz_rows=1, batch_size=2, viz_mode_3d='2d_slice', slice_index=101)"
   ]
  }
 ],
 "metadata": {
  "kernelspec": {
   "display_name": "Python 3",
   "language": "python",
   "name": "python3"
  },
  "language_info": {
   "codemirror_mode": {
    "name": "ipython",
    "version": 3
   },
   "file_extension": ".py",
   "mimetype": "text/x-python",
   "name": "python",
   "nbconvert_exporter": "python",
   "pygments_lexer": "ipython3",
   "version": "3.4.3"
  }
 },
 "nbformat": 4,
 "nbformat_minor": 2
}
