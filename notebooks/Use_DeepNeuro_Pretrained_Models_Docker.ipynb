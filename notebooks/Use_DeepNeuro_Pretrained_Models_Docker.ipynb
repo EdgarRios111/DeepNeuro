{
 "cells": [
  {
   "cell_type": "markdown",
   "metadata": {
    "collapsed": true,
    "deletable": true,
    "editable": true
   },
   "source": [
    "![DeepNeuro](https://github.com/QTIM-Lab/DeepNeuro/raw/master/package_resources/logos/DeepNeuro_alt.PNG?raw=true)"
   ]
  },
  {
   "cell_type": "markdown",
   "metadata": {},
   "source": [
    "# Running a DeepNeuro Module with Docker\n",
    "\n",
    "In this notebook, you will learn how to run a DeepNeuro module from its Docker container. DeepNeuro modules are scripts created with DeepNeuro syntax, and their goal is usually to: load data from any state of preprocessing, run inference on a model trained to accomplish a certain task, and save out to the results to a location of your choosing. Today, we will be running the glioma segmentation module in DeepNeuro.\n",
    "\n",
    "You will need to have Docker already installed for this tutorial. You can find some instructions on how to do that here: https://docs.docker.com/install/. Some tutorials on how to use Docker can be found here: https://docker-curriculum.com/.\n",
    "\n",
    "In order to run these Docker containers on the GPU, you will also have to install nvidia-docker. nvidia-docker is an extension to Docker that lets you seamlessly hook up your docker containers to your NVIDIA GPU drivers and supporting software. You can find instructions on how to install nvidia-docker here: https://github.com/NVIDIA/nvidia-docker.\n",
    "\n",
    "You can find documentation for the glioma segmentation module at this link: https://github.com/QTIM-Lab/DeepNeuro/tree/master/deepneuro/pipelines/Segment_GBM. Don't worry about reading it too much right now -- we will go over the parameters in this tutorial too.\n",
    "\n",
    "Our first step will be to pull the Docker container for glioma segmentation with DeepNeuro."
   ]
  },
  {
   "cell_type": "code",
   "execution_count": 3,
   "metadata": {
    "collapsed": false,
    "scrolled": true
   },
   "outputs": [
    {
     "name": "stdout",
     "output_type": "stream",
     "text": [
      "Using default tag: latest\n",
      "latest: Pulling from qtimlab/deepneuro_segment_gbm\n",
      "Digest: sha256:890f03b339354f3a35aadf98045773f23d13b15ddf11df5680c7d3d68247cb3f\n",
      "Status: Image is up to date for qtimlab/deepneuro_segment_gbm:latest\n"
     ]
    }
   ],
   "source": [
    "!docker pull qtimlab/deepneuro_segment_gbm"
   ]
  },
  {
   "cell_type": "markdown",
   "metadata": {},
   "source": [
    "Easy enough! We will also have to download our medical imaging data. If you haven't already downloaded it in a previous tutorial, you can get download it from DeepNeuro with the following command. We will be loading a DICOM dataset this time, instead of a NIfTI dataset, to show off some of the preprocessing steps that come prepackaged in DeepNeuro Docker containers."
   ]
  },
  {
   "cell_type": "code",
   "execution_count": 4,
   "metadata": {
    "collapsed": false
   },
   "outputs": [
    {
     "ename": "KeyError",
     "evalue": "'sample_gbm_dicom'",
     "output_type": "error",
     "traceback": [
      "\u001b[0;31m---------------------------------------------------------------------------\u001b[0m",
      "\u001b[0;31mKeyError\u001b[0m                                  Traceback (most recent call last)",
      "\u001b[0;32m<ipython-input-4-5377918b6a7e>\u001b[0m in \u001b[0;36m<module>\u001b[0;34m()\u001b[0m\n\u001b[1;32m      1\u001b[0m \u001b[0;32mfrom\u001b[0m \u001b[0mdeepneuro\u001b[0m\u001b[0;34m.\u001b[0m\u001b[0mload\u001b[0m\u001b[0;34m.\u001b[0m\u001b[0mload\u001b[0m \u001b[0;32mimport\u001b[0m \u001b[0mload\u001b[0m\u001b[0;34m\u001b[0m\u001b[0m\n\u001b[1;32m      2\u001b[0m \u001b[0;34m\u001b[0m\u001b[0m\n\u001b[0;32m----> 3\u001b[0;31m \u001b[0mload\u001b[0m\u001b[0;34m(\u001b[0m\u001b[0;34m'sample_gbm_dicom'\u001b[0m\u001b[0;34m,\u001b[0m \u001b[0moutput_datapath\u001b[0m\u001b[0;34m=\u001b[0m\u001b[0;34m'./Sample_Data'\u001b[0m\u001b[0;34m)\u001b[0m\u001b[0;34m\u001b[0m\u001b[0m\n\u001b[0m",
      "\u001b[0;32m/home/abeers/Github/DeepNeuro/deepneuro/load/load.py\u001b[0m in \u001b[0;36mload\u001b[0;34m(dataset, output_datapath)\u001b[0m\n\u001b[1;32m     46\u001b[0m         \u001b[0mdataset_path\u001b[0m \u001b[0;34m=\u001b[0m \u001b[0mdata_dict\u001b[0m\u001b[0;34m[\u001b[0m\u001b[0mdataset\u001b[0m\u001b[0;34m]\u001b[0m\u001b[0;34m[\u001b[0m\u001b[0;36m0\u001b[0m\u001b[0;34m]\u001b[0m\u001b[0;34m\u001b[0m\u001b[0m\n\u001b[1;32m     47\u001b[0m     \u001b[0;32melse\u001b[0m\u001b[0;34m:\u001b[0m\u001b[0;34m\u001b[0m\u001b[0m\n\u001b[0;32m---> 48\u001b[0;31m         \u001b[0mdataset_path\u001b[0m \u001b[0;34m=\u001b[0m \u001b[0mos\u001b[0m\u001b[0;34m.\u001b[0m\u001b[0mpath\u001b[0m\u001b[0;34m.\u001b[0m\u001b[0mjoin\u001b[0m\u001b[0;34m(\u001b[0m\u001b[0moutput_datapath\u001b[0m\u001b[0;34m,\u001b[0m \u001b[0mos\u001b[0m\u001b[0;34m.\u001b[0m\u001b[0mpath\u001b[0m\u001b[0;34m.\u001b[0m\u001b[0mbasename\u001b[0m\u001b[0;34m(\u001b[0m\u001b[0mdata_dict\u001b[0m\u001b[0;34m[\u001b[0m\u001b[0mdataset\u001b[0m\u001b[0;34m]\u001b[0m\u001b[0;34m[\u001b[0m\u001b[0;36m0\u001b[0m\u001b[0;34m]\u001b[0m\u001b[0;34m)\u001b[0m\u001b[0;34m)\u001b[0m\u001b[0;34m\u001b[0m\u001b[0m\n\u001b[0m\u001b[1;32m     49\u001b[0m \u001b[0;34m\u001b[0m\u001b[0m\n\u001b[1;32m     50\u001b[0m     \u001b[0;32mif\u001b[0m \u001b[0;32mnot\u001b[0m \u001b[0mos\u001b[0m\u001b[0;34m.\u001b[0m\u001b[0mpath\u001b[0m\u001b[0;34m.\u001b[0m\u001b[0mexists\u001b[0m\u001b[0;34m(\u001b[0m\u001b[0mos\u001b[0m\u001b[0;34m.\u001b[0m\u001b[0mpath\u001b[0m\u001b[0;34m.\u001b[0m\u001b[0mdirname\u001b[0m\u001b[0;34m(\u001b[0m\u001b[0mdataset_path\u001b[0m\u001b[0;34m)\u001b[0m\u001b[0;34m)\u001b[0m\u001b[0;34m:\u001b[0m\u001b[0;34m\u001b[0m\u001b[0m\n",
      "\u001b[0;31mKeyError\u001b[0m: 'sample_gbm_dicom'"
     ]
    }
   ],
   "source": [
    "from deepneuro.load.load import load\n",
    "\n",
    "load('sample_gbm_dicom', output_datapath='./Sample_Data')"
   ]
  },
  {
   "cell_type": "markdown",
   "metadata": {},
   "source": [
    "In the folder you just downloaded, you should see four subfolders corresponding to T2, FLAIR, pre-contrast T1, and post-contrast T1 MR sequences. These images are not the same resolution, are not registered to the same patient space, are not on the same intensity scale, and have not otherwise been preprocessed. Luckily, we have a Docker container that can do all of those things, and even segment glioma tissue at the end of the process!\n",
    "\n",
    "There are two principle ways to run a Docker container in DeepNeuro. One is directly via the Docker interface: simply construct a command and enter it into the command-line. The other is via DeepNeuro's Docker wrapper, written in Python. The latter takes care of some of the difficulties of working with Docker, and let's you run Docker containers from within a Python script, but requires you to have a local installation of DeepNeuro.\n",
    "\n",
    "## Running a module via Docker and the Command Line"
   ]
  }
 ],
 "metadata": {
  "kernelspec": {
   "display_name": "Python 3",
   "language": "python",
   "name": "python3"
  },
  "language_info": {
   "codemirror_mode": {
    "name": "ipython",
    "version": 3
   },
   "file_extension": ".py",
   "mimetype": "text/x-python",
   "name": "python",
   "nbconvert_exporter": "python",
   "pygments_lexer": "ipython3",
   "version": "3.4.3"
  }
 },
 "nbformat": 4,
 "nbformat_minor": 2
}
