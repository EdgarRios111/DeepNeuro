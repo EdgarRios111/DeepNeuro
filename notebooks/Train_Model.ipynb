{
 "cells": [
  {
   "cell_type": "markdown",
   "metadata": {},
   "source": [
    "![DeepNeuro](https://github.com/QTIM-Lab/DeepNeuro/raw/master/package_resources/logos/DeepNeuro_alt.PNG?raw=true)"
   ]
  },
  {
   "cell_type": "markdown",
   "metadata": {},
   "source": [
    "# Training A Model with DeepNeuro\n",
    "\n",
    "In this notebook, you will learn how to train a model using DeepNeuro. With DeepNeuro, you can select from a pre-made model architecture from the deepneuro.models module, and easily configure its hyper-parameters using a Python dictionary. From there, you can train a model while augmenting data on the fly.\n",
    "\n",
    "Before we get started training a model, we're going to have to have to some data to train, validate, and test on. If you have already generated training data from the previous tutorial (linked here), you can load the HDF5 file you created. If not, we will quickly generate some files to train on here. If you want to learn about data preprocessing and augmentation at length, I encourage to check out the previous tutorial."
   ]
  },
  {
   "cell_type": "code",
   "execution_count": null,
   "metadata": {
    "collapsed": true
   },
   "outputs": [],
   "source": [
    "\n",
    "# Change this flag as appropriate!\n",
    "hdf5_available = False\n",
    "\n",
    "if not hdf5_available:\n",
    "    training_data_sources = {\n",
    "        'directories': {\n",
    "                    'TCGA_GBM_NIFTI/TRAINING':\n",
    "                    {'input_data': ['*_flair.nii.gz*', '*_t2.nii.gz*', '*_t1.nii.gz', '*_t1Gd.nii.gz'], \n",
    "                     'ground_truth': ['*GlistrBoost_ManuallyCorrected.nii.gz']}},\n",
    "    }\n",
    "    validation_data_sources = {\n",
    "        'directories': {\n",
    "                    'TCGA_GBM_NIFTI/VALIDATION':\n",
    "                    {'input_data': ['*_flair.nii.gz*', '*_t2.nii.gz*', '*_t1.nii.gz', '*_t1Gd.nii.gz'], \n",
    "                     'ground_truth': ['*GlistrBoost_ManuallyCorrected.nii.gz']}},\n",
    "    }\n",
    "    testing_data_sources = {\n",
    "        'directories': {\n",
    "                    'TCGA_GBM_NIFTI/TESTING':\n",
    "                    {'input_data': ['*_flair.nii.gz*', '*_t2.nii.gz*', '*_t1.nii.gz', '*_t1Gd.nii.gz'], \n",
    "                     'ground_truth': ['*GlistrBoost_ManuallyCorrected.nii.gz']}},\n",
    "    }\n",
    "\n",
    "    \n"
   ]
  },
  {
   "cell_type": "markdown",
   "metadata": {},
   "source": [
    "## Creating a U-Net with DeepNeuro\n",
    "\n",
    "The most popular architectures for segmentation in 2D and 3D is the U-Net architecture. While many have made modified the U-Net, the principal components have stayed constant: a series of convolutions followed by downsampling operations, concatenated to a sequential series of convolutions followed by upsampling operations.\n",
    "\n",
    "DeepNeuro allows you to customize many aspects of the U-Net. That may be useful for you in this tutorial, as the 3D U-Net can be quite computationally demanding at large sizes, and you may not have an high-performing GPU to run the full version of the model. We are going to show you how to adjust parameters to create a smaller U-Net that originally proposed, that may be better able to run on your system.\n",
    "\n",
    "The first thing we're going to do is import the UNet object from DeepNeuro's model library. "
   ]
  },
  {
   "cell_type": "code",
   "execution_count": null,
   "metadata": {
    "collapsed": true
   },
   "outputs": [],
   "source": [
    "from deepneuro.models.unet import UNet\n",
    "\n",
    "model_parameters = {'input_shape': (32, 32, 32, 4),\n",
    "                'output_channels': 4,\n",
    "                'downsize_filters_factor': 1,\n",
    "                'dropout': 0, \n",
    "                'batch_norm': True, \n",
    "                'initial_learning_rate': 0.0001,\n",
    "                'cost_function': 'categorical_cross_entropy',\n",
    "                'depth': 3,\n",
    "                'max_filter': 128,\n",
    "                'stride_size': (1, 1, 1)}\n",
    "\n",
    "unet_model = UNet(**model_parameters)"
   ]
  },
  {
   "cell_type": "code",
   "execution_count": null,
   "metadata": {
    "collapsed": true
   },
   "outputs": [],
   "source": []
  }
 ],
 "metadata": {
  "kernelspec": {
   "display_name": "Python 3",
   "language": "python",
   "name": "python3"
  },
  "language_info": {
   "codemirror_mode": {
    "name": "ipython",
    "version": 3
   },
   "file_extension": ".py",
   "mimetype": "text/x-python",
   "name": "python",
   "nbconvert_exporter": "python",
   "pygments_lexer": "ipython3",
   "version": "3.4.3"
  }
 },
 "nbformat": 4,
 "nbformat_minor": 2
}
